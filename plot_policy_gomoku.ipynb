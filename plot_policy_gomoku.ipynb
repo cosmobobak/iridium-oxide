{
 "cells": [
  {
   "cell_type": "code",
   "execution_count": null,
   "metadata": {},
   "outputs": [],
   "source": [
    "import matplotlib.pyplot as plt\n",
    "import matplotlib.animation as animation\n",
    "import numpy as np\n",
    "import polars as pl"
   ]
  },
  {
   "cell_type": "code",
   "execution_count": null,
   "metadata": {},
   "outputs": [],
   "source": [
    "# log.txt is a sequence of comma-separated floats.\n",
    "# each line is a policy distribution over moves on the 9x9 gomoku board,\n",
    "# so we'll need to reshape them for plotting.\n",
    "\n",
    "# load the log file\n",
    "log = pl.read_csv('log.txt', has_header=False)\n",
    "# drop the rightmost column, which is empty\n",
    "log = log.drop(log.columns[-1])\n",
    "# drop the last row, which is corrupted\n",
    "log = log[:-1]\n",
    "\n",
    "len(log)"
   ]
  },
  {
   "cell_type": "code",
   "execution_count": null,
   "metadata": {},
   "outputs": [],
   "source": [
    "# convert to numpy array\n",
    "log = log.to_numpy()\n",
    "\n",
    "# reshape the array\n",
    "log = log.reshape(-1, 9, 9)"
   ]
  },
  {
   "cell_type": "code",
   "execution_count": null,
   "metadata": {},
   "outputs": [],
   "source": [
    "# animate the change of the policy distribution\n",
    "fig, ax = plt.subplots()\n",
    "im = ax.imshow(log[0], cmap='inferno')\n",
    "\n",
    "def animate(i):\n",
    "    im.set_data(log[i])\n",
    "    return im,\n",
    "\n",
    "ani = animation.FuncAnimation(fig, animate, frames=len(log), interval=1)\n",
    "ani.save('policy.gif', writer='imagemagick', fps=1000)"
   ]
  }
 ],
 "metadata": {
  "kernelspec": {
   "display_name": "Python 3",
   "language": "python",
   "name": "python3"
  },
  "language_info": {
   "codemirror_mode": {
    "name": "ipython",
    "version": 3
   },
   "file_extension": ".py",
   "mimetype": "text/x-python",
   "name": "python",
   "nbconvert_exporter": "python",
   "pygments_lexer": "ipython3",
   "version": "3.8.10"
  },
  "orig_nbformat": 4
 },
 "nbformat": 4,
 "nbformat_minor": 2
}
