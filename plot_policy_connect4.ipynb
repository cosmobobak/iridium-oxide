{
 "cells": [
  {
   "cell_type": "code",
   "execution_count": 1,
   "metadata": {},
   "outputs": [],
   "source": [
    "import matplotlib.pyplot as plt\n",
    "import matplotlib.animation as animation\n",
    "import numpy as np\n",
    "import polars as pl"
   ]
  },
  {
   "cell_type": "code",
   "execution_count": 2,
   "metadata": {},
   "outputs": [
    {
     "data": {
      "text/plain": [
       "26376"
      ]
     },
     "execution_count": 2,
     "metadata": {},
     "output_type": "execute_result"
    }
   ],
   "source": [
    "# log.txt is a sequence of comma-separated floats.\n",
    "# each line is a policy distribution over moves on bottom row of the 7-wide 6-high connect4 board.\n",
    "# so we'll need to embed the 1d policy onto the 2d board to visualize it.\n",
    "\n",
    "# load the log file\n",
    "log = pl.read_csv('log.txt', has_header=False)\n",
    "# drop the rightmost column, which is empty\n",
    "log = log.drop(log.columns[-1])\n",
    "# drop the last row, which is corrupted\n",
    "log = log[:-1]\n",
    "\n",
    "len(log)"
   ]
  },
  {
   "cell_type": "code",
   "execution_count": 3,
   "metadata": {},
   "outputs": [],
   "source": [
    "# convert to numpy array\n",
    "log = log.to_numpy()\n",
    "\n",
    "# create a vector of 2d boards\n",
    "boards = np.zeros((len(log), 6, 7))\n",
    "\n",
    "# embed the 1d policy onto the 2d board\n",
    "for i in range(len(log)):\n",
    "    boards[i, 5] = log[i]"
   ]
  },
  {
   "cell_type": "code",
   "execution_count": 4,
   "metadata": {},
   "outputs": [
    {
     "data": {
      "text/plain": [
       "<matplotlib.image.AxesImage at 0x1561173ebb0>"
      ]
     },
     "execution_count": 4,
     "metadata": {},
     "output_type": "execute_result"
    },
    {
     "data": {
      "image/png": "[encoded data removed]",
      "text/plain": [
       "<Figure size 432x288 with 1 Axes>"
      ]
     },
     "metadata": {
      "needs_background": "light"
     },
     "output_type": "display_data"
    }
   ],
   "source": [
    "# display the first board as a sanity check\n",
    "plt.imshow(boards[0])"
   ]
  },
  {
   "cell_type": "code",
   "execution_count": 5,
   "metadata": {},
   "outputs": [
    {
     "name": "stderr",
     "output_type": "stream",
     "text": [
      "MovieWriter imagemagick unavailable; using Pillow instead.\n"
     ]
    },
    {
     "data": {
      "image/png": "[encoded data removed]",
      "text/plain": [
       "<Figure size 432x288 with 1 Axes>"
      ]
     },
     "metadata": {
      "needs_background": "light"
     },
     "output_type": "display_data"
    }
   ],
   "source": [
    "# animate the change of the policy distribution\n",
    "fig, ax = plt.subplots()\n",
    "im = ax.imshow(boards[0], cmap='inferno')\n",
    "\n",
    "def animate(i):\n",
    "    im.set_data(boards[i * 64])\n",
    "    return im,\n",
    "\n",
    "ani = animation.FuncAnimation(fig, animate, frames=len(log) // 64, interval=64)\n",
    "ani.save('policy.gif', writer='imagemagick', fps=1000 // 64)"
   ]
  }
 ],
 "metadata": {
  "kernelspec": {
   "display_name": "Python 3",
   "language": "python",
   "name": "python3"
  },
  "language_info": {
   "codemirror_mode": {
    "name": "ipython",
    "version": 3
   },
   "file_extension": ".py",
   "mimetype": "text/x-python",
   "name": "python",
   "nbconvert_exporter": "python",
   "pygments_lexer": "ipython3",
   "version": "3.8.10"
  },
  "orig_nbformat": 4
 },
 "nbformat": 4,
 "nbformat_minor": 2
}
