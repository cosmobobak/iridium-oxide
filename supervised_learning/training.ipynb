{
 "cells": [
  {
   "cell_type": "code",
   "execution_count": null,
   "metadata": {},
   "outputs": [],
   "source": [
    "import tensorflow as tf\n",
    "import numpy as np\n",
    "import matplotlib.pyplot as plt\n",
    "import pandas as pd"
   ]
  },
  {
   "cell_type": "code",
   "execution_count": null,
   "metadata": {},
   "outputs": [],
   "source": [
    "data = pd.read_csv('../datasets/connect4data.csv', index_col=False)\n",
    "data.head()"
   ]
  },
  {
   "cell_type": "code",
   "execution_count": null,
   "metadata": {},
   "outputs": [],
   "source": [
    "ENTRIES = data.shape[0]"
   ]
  },
  {
   "cell_type": "code",
   "execution_count": null,
   "metadata": {},
   "outputs": [],
   "source": [
    "states = np.array(data[[\"board\", \"-\"] + [f\"-.{i}\" for i in range(1, 83)]])\n",
    "policies = np.array(data[[\"policy\"] + [f\"-.{i}\" for i in range(83, 89)]])\n",
    "states[0]\n",
    "firstpolicy = policies[0]"
   ]
  },
  {
   "cell_type": "code",
   "execution_count": null,
   "metadata": {},
   "outputs": [],
   "source": [
    "states = states.reshape(ENTRIES, 6, 7, 2)  # reshape to 6x7x2 for cnn"
   ]
  },
  {
   "cell_type": "code",
   "execution_count": null,
   "metadata": {},
   "outputs": [],
   "source": [
    "data = list(zip(states, policies))"
   ]
  },
  {
   "cell_type": "code",
   "execution_count": null,
   "metadata": {},
   "outputs": [],
   "source": [
    "# shuffle data\n",
    "np.random.shuffle(data)\n",
    "# split into train and test\n",
    "train_data = data[:int(ENTRIES*0.8)]\n",
    "test_data = data[int(ENTRIES*0.8):]"
   ]
  },
  {
   "cell_type": "code",
   "execution_count": null,
   "metadata": {},
   "outputs": [],
   "source": [
    "from net import get_model\n",
    "model = get_model()\n",
    "model.summary()"
   ]
  },
  {
   "cell_type": "code",
   "execution_count": null,
   "metadata": {},
   "outputs": [],
   "source": [
    "# train model\n",
    "xs = np.array([x for x, _ in train_data])\n",
    "ys = np.array([y for _, y in train_data])\n",
    "xs_test = np.array([x for x, _ in test_data])\n",
    "ys_test = np.array([y for _, y in test_data])"
   ]
  },
  {
   "cell_type": "code",
   "execution_count": null,
   "metadata": {},
   "outputs": [],
   "source": [
    "# tensorboard\n",
    "import datetime\n",
    "log_dir = \"logs/fit/\" + datetime.datetime.now().strftime(\"%Y%m%d-%H%M%S\")\n",
    "tensorboard_callback = tf.keras.callbacks.TensorBoard(\n",
    "    log_dir=log_dir, histogram_freq=1)\n"
   ]
  },
  {
   "cell_type": "code",
   "execution_count": null,
   "metadata": {},
   "outputs": [],
   "source": [
    "model.fit(xs, ys, epochs=500, validation_data=(xs_test, ys_test), batch_size=32, callbacks=[tensorboard_callback])"
   ]
  },
  {
   "cell_type": "code",
   "execution_count": null,
   "metadata": {},
   "outputs": [],
   "source": [
    "# test loss on both test and train data\n",
    "loss_test = model.evaluate(xs_test, ys_test)\n",
    "loss_train = model.evaluate(xs, ys)\n",
    "print(f\"Test loss: {loss_test}\")\n",
    "print(f\"Train loss: {loss_train}\")"
   ]
  },
  {
   "cell_type": "code",
   "execution_count": null,
   "metadata": {},
   "outputs": [],
   "source": [
    "# for the starting position, we expect this dist\n",
    "plt.bar(range(7), firstpolicy)"
   ]
  },
  {
   "cell_type": "code",
   "execution_count": null,
   "metadata": {},
   "outputs": [],
   "source": [
    "mock_board = np.zeros((6, 7, 2)) # looks like the starting position\n",
    "dist = model.predict(mock_board.reshape(1, 6, 7, 2))[0]\n",
    "# plot dist as a bar chart\n",
    "plt.bar(range(7), dist)"
   ]
  },
  {
   "cell_type": "code",
   "execution_count": null,
   "metadata": {},
   "outputs": [],
   "source": [
    "mock_board[5, 3, 0] = 1  # place a piece in column 4 (index 3)\n",
    "dist = model.predict(mock_board.reshape(1, 6, 7, 2))[0]\n",
    "# plot dist as a bar chart\n",
    "plt.bar(range(7), dist)\n"
   ]
  },
  {
   "cell_type": "code",
   "execution_count": null,
   "metadata": {},
   "outputs": [],
   "source": [
    "mock_board[4, 3, 1] = 1  # place a piece in column 4 (index 3)\n",
    "mock_board[5, 2, 0] = 1  # place a piece in column 3 (index 2)\n",
    "dist = model.predict(mock_board.reshape(1, 6, 7, 2))[0]\n",
    "# plot dist as a bar chart\n",
    "plt.bar(range(7), dist)\n"
   ]
  },
  {
   "cell_type": "code",
   "execution_count": null,
   "metadata": {},
   "outputs": [],
   "source": [
    "## model.save('direct_conv_policy.h5')"
   ]
  }
 ],
 "metadata": {
  "interpreter": {
   "hash": "b52cd1b9a8a0035b2cd3385048b7442b6ba2d26e4ca84d1db37ccdeb82b891dc"
  },
  "kernelspec": {
   "display_name": "Python 3.8.10 64-bit",
   "language": "python",
   "name": "python3"
  },
  "language_info": {
   "codemirror_mode": {
    "name": "ipython",
    "version": 3
   },
   "file_extension": ".py",
   "mimetype": "text/x-python",
   "name": "python",
   "nbconvert_exporter": "python",
   "pygments_lexer": "ipython3",
   "version": "3.8.10"
  },
  "orig_nbformat": 4
 },
 "nbformat": 4,
 "nbformat_minor": 2
}
